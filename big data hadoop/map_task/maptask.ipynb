{
  "nbformat": 4,
  "nbformat_minor": 0,
  "metadata": {
    "colab": {
      "provenance": []
    },
    "kernelspec": {
      "name": "python3",
      "display_name": "Python 3"
    },
    "language_info": {
      "name": "python"
    }
  },
  "cells": [
    {
      "cell_type": "code",
      "execution_count": null,
      "metadata": {
        "id": "HmVX6FY5QGoj"
      },
      "outputs": [],
      "source": [
        "from mapreduce import *\n",
        "import pandas as pd"
      ]
    },
    {
      "cell_type": "code",
      "source": [
        "xml_file_path = 'raw_data/posts.xml'\n",
        "xml_root = get_single_xml(xml_file_path)"
      ],
      "metadata": {
        "id": "Krp8GZJkQ4rp"
      },
      "execution_count": null,
      "outputs": []
    },
    {
      "cell_type": "code",
      "source": [
        "# Top 10 tipo de post sin respuestas aceptadas (tag - AcceptedAnswerId - AnswerCount)\n",
        "t1 = mapreduce_tasker(xml_file_path = 'raw_data/posts.xml', map_root = mapper_task_1, reduce = reducer_task_1)\n",
        "pd.DataFrame.from_dict(t1, orient = 'index', columns = ['Count']).reset_index().rename(columns = {'index' : 'Tag'})"
      ],
      "metadata": {
        "id": "Wt2WnHTpQ7C3"
      },
      "execution_count": null,
      "outputs": []
    },
    {
      "cell_type": "code",
      "source": [
        "# Relación entre cantidad de respuestas de un post y su puntaje.\n",
        "t2 = mapreduce_tasker(xml_file_path = 'raw_data/posts.xml', map_root = mapper_task_2, reduce = reducer_task_2)\n",
        "t2"
      ],
      "metadata": {
        "id": "mpD6K9KXQ_qF"
      },
      "execution_count": null,
      "outputs": []
    },
    {
      "cell_type": "code",
      "source": [
        "# Top 10 preguntas que tuvieron mayor tiempo de actividad\n",
        "t3 = mapreduce_tasker(xml_file_path = 'raw_data/posts.xml', map_root = mapper_task_3, reduce = reducer_task_3)\n",
        "pd.DataFrame(t3, columns = ['Post Id', 'Days'])"
      ],
      "metadata": {
        "id": "7oDR3mEpRCrU"
      },
      "execution_count": null,
      "outputs": []
    },
    {
      "cell_type": "code",
      "source": [],
      "metadata": {
        "id": "HUl2AfiaRG2H"
      },
      "execution_count": null,
      "outputs": []
    }
  ]
}