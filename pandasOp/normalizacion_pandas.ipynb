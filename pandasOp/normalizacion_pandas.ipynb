{
  "nbformat": 4,
  "nbformat_minor": 0,
  "metadata": {
    "colab": {
      "provenance": []
    },
    "kernelspec": {
      "name": "python3",
      "display_name": "Python 3"
    },
    "language_info": {
      "name": "python"
    }
  },
  "cells": [
    {
      "cell_type": "code",
      "execution_count": null,
      "metadata": {
        "id": "TtjqBgxxmjVu"
      },
      "outputs": [],
      "source": [
        "import pandas as pd\n",
        "import numpy as np\n",
        "\n",
        "def normalize_data(df: pd.DataFrame):\n",
        " \n",
        " \n",
        "\n",
        "    # University\n",
        "    df['university'] = df['university'].str.lower()\n",
        "    df['university'] = df['university'].replace(\n",
        "         re_underscore, ' ').replace(re_whitespace, ' ').str.strip()\n",
        "    # Career\n",
        "    df['career'] = df['career'].str.lower()\n",
        "    df['career'] = df['career'].replace(\n",
        "        re_underscore, ' ').replace(re_whitespace, ' ').str.strip()\n",
        "    # Inscription Date.\n",
        "    # The date is in the correct format. Meanwhile, the correct way to format is:\n",
        "    # Convert object to datetime.\n",
        "    df['inscription_date'] = pd.to_datetime(df['inscription_date'])\n",
        "    df['inscription_date'] = df['inscription_date'].dt.strftime('%Y-%m-%d')\n",
        "    # First name.\n",
        "    df['first_name'] = df['first_name'].str.lower()\n",
        "    df['first_name'] = df['first_name'].replace(\n",
        "        re_underscore, ' ').replace(re_whitespace, ' ').str.strip()\n",
        "    # Last name.\n",
        "    df['last_name'] = df['last_name'].str.lower()\n",
        "    df['last_name'] = df['last_name'].replace(\n",
        "        re_underscore, ' ').replace(re_whitespace, ' ').str.strip()\n",
        "    # Gender.\n",
        "    df['gender'] = df['gender'].replace(['F', 'M'], ['female', 'male'])\n",
        "    # Age. #np.int8 or np.int16 less memory usage.\n",
        "    df['age'] = df['age'].astype(dtype=np.int16)\n",
        "    # Postal code.\n",
        "    df['postal_code'] = df['postal_code'].astype('str')\n",
        "    # Location.\n",
        "    df['location'] = df['location'].str.lower()\n",
        "    df['location'] = df['location'].replace(\n",
        "        re_underscore, ' ').replace(re_whitespace, ' ').str.strip()\n",
        "    # Email.\n",
        "    df['email'] = df['email'].str.lower()\n",
        "    df['email'] = df['email'].replace(\n",
        "        re_underscore, ' ').replace(re_whitespace, ' ').str.strip()\n",
        "\n",
        "    return df"
      ]
    }
  ]
}